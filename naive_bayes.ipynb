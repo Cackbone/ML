{
 "cells": [
  {
   "cell_type": "markdown",
   "metadata": {},
   "source": [
    "# Naive bayes classifier\n",
    "\n",
    "Used libraries are from the python standard library, sklearn, numpy and matplotlib"
   ]
  },
  {
   "cell_type": "code",
   "execution_count": 1,
   "metadata": {},
   "outputs": [],
   "source": [
    "import math\n",
    "from random import randrange\n",
    "import pickle\n",
    "\n",
    "import numpy as np\n",
    "import matplotlib.pyplot as plt\n",
    "from sklearn import datasets\n",
    "from sklearn.model_selection import train_test_split\n",
    "\n",
    "\n",
    "# For comparison purpose\n",
    "from sklearn.naive_bayes import GaussianNB"
   ]
  },
  {
   "cell_type": "markdown",
   "metadata": {},
   "source": [
    "First, the **remove_rand_class** function will randomly choose a class to delete from a dataset\n",
    "\n"
   ]
  },
  {
   "cell_type": "code",
   "execution_count": 2,
   "metadata": {},
   "outputs": [],
   "source": [
    "def remove_rand_class(features_set, classes, target_names):\n",
    "    class_to_rm = randrange(len(target_names))\n",
    "    to_remove = sorted([i for i, x in enumerate(classes) if x == class_to_rm], reverse=True)\n",
    "    for i in to_remove:\n",
    "        features_set.pop(i)\n",
    "        classes.pop(i)\n",
    "    target_names.pop(class_to_rm)"
   ]
  },
  {
   "cell_type": "markdown",
   "metadata": {},
   "source": [
    "We can now build our Naive Bayes Classifier. \n",
    "For this exercise I choosed the Gaussian implementation of the algorithm. \n",
    "To fit our classifier to our data, the method **fit** will arrange the dataset and compute some properties.\n",
    "\n",
    "As our prediction algorithm requires the mean and the standard deviation for each feature for each classes we will do it in this step to avoid heavy computation while doing the prediction, this is done trough the **FeaturesStats** class. And to ensure an O(1) access during the prediction to these data I used a dictionary.\n",
    "\n",
    "\n",
    "I added to this class a **score** method to get the mean accuracy of our fitted classifier instance. And the **save_model** and **fit_from_file** methods allows us to save the model and to use it in another execution without recomputing everything."
   ]
  },
  {
   "cell_type": "code",
   "execution_count": 3,
   "metadata": {},
   "outputs": [],
   "source": [
    "class FeatureStats:\n",
    "    def __init__(self, data):\n",
    "        self.length = len(data)\n",
    "        self.mean = np.mean(data)\n",
    "        self.stdev = np.std(data)\n",
    "\n",
    "\n",
    "class NaiveBayes:\n",
    "    def __init__(self, algorithm=\"gaussian\"):\n",
    "        self.algorithm = algorithm\n",
    "        self.model = None\n",
    "\n",
    "    \"\"\"\n",
    "    Create a NaiveBayes model\n",
    "    \"\"\"\n",
    "    def fit(self, values, classes):\n",
    "        ds = {}\n",
    "        ds_features = {}\n",
    "\n",
    "        for i in range(len(values) - 1):\n",
    "            if not classes[i] in ds:\n",
    "                ds[classes[i]] = [values[i]]\n",
    "            else:\n",
    "                ds[classes[i]].append(values[i])\n",
    "\n",
    "        for class_id, features in ds.items():\n",
    "            ds_features[class_id] = [FeatureStats(feature) for feature in zip(*features)]\n",
    "\n",
    "        if self.algorithm == \"gaussian\":\n",
    "            self.model = GNBModel(ds, ds_features, len(values))\n",
    "            return self\n",
    "        raise NotImplementedError()\n",
    "\n",
    "    \"\"\"\n",
    "    Predict classes based on features\n",
    "    \"\"\"\n",
    "    def predict(self, features_set):\n",
    "        if not self.model:\n",
    "            raise Exception(\"Classifier instance not fitted\")\n",
    "        return self.model.predict(features_set)\n",
    "\n",
    "    \"\"\"\n",
    "    Mean accuracy for this model\n",
    "    \"\"\"\n",
    "    def score(self, features_set, classes):\n",
    "        if not self.model:\n",
    "            raise Exception(\"Classifier instance not fitted\")\n",
    "        tp = 0\n",
    "        predicted = self.predict(features_set)\n",
    "\n",
    "        for i, _ in enumerate(classes):\n",
    "            if classes[i] == predicted[i]:\n",
    "                tp += 1\n",
    "        return tp / float(len(features_set))\n",
    "\n",
    "    \"\"\"\n",
    "    Save the model to a binary pickle file\n",
    "    \"\"\"\n",
    "    def save_model(self, filename):\n",
    "        pickle.dump(self.model, open(filename, \"wb\"))\n",
    "\n",
    "    \"\"\"\n",
    "    Load the model from a binary pickle file\n",
    "    \"\"\"\n",
    "    def fit_from_file(self, filename):\n",
    "        self.model = pickle.load(open(filename, \"rb\"))\n",
    "        return self"
   ]
  },
  {
   "cell_type": "markdown",
   "metadata": {},
   "source": [
    "At the end of our **fit** method, the classifier will instanciate our model with the class GNBModel.\n",
    "\n",
    "In the model we can find the **predict** method wich is the basic naive bayes algorithm:\n",
    "$$\n",
    "ŷ = \\arg \\max_y P(y)\\begin{equation*}\n",
    "\\prod_{i=1}^{n} P(x_i|y)\n",
    "\\end{equation*}\n",
    "$$\n",
    "\n",
    "I chosed the gaussian implementation of the algorithm where $P(x_i|y)$ is estimated with:\n",
    "$$\n",
    "P(x_i|y) = \\frac{1}{\\sqrt{2\\pi\\sigma_y^2}} exp\\left(-\\frac{(x_i - \\mu_y)^2}{2\\sigma_y^2}\\right)\n",
    "$$"
   ]
  },
  {
   "cell_type": "code",
   "execution_count": 4,
   "metadata": {},
   "outputs": [],
   "source": [
    "class GNBModel:\n",
    "    def __init__(self, ds, ds_features, rows):\n",
    "        self.ds = ds\n",
    "        self.ds_features = ds_features\n",
    "        self.rows = rows\n",
    "\n",
    "    \"\"\"\n",
    "    Predict classes based on features\n",
    "    \"\"\"\n",
    "    def predict(self, features_set):\n",
    "        result = []\n",
    "\n",
    "        for features in features_set:\n",
    "            prob = {}\n",
    "\n",
    "            for class_id, class_stats in self.ds_features.items():\n",
    "                prob[class_id] = class_stats[0].length / float(self.rows)\n",
    "                for i, feature_stats in enumerate(class_stats):\n",
    "                    prob[class_id] *= GNBModel.gaussian_probability(features[i],\n",
    "                                                                    feature_stats.mean,\n",
    "                                                                    feature_stats.stdev)\n",
    "            result.append(max(prob, key=prob.get))\n",
    "        return result\n",
    "\n",
    "    \"\"\"\n",
    "    Estimate P(xi|y) using gaussian distribution\n",
    "    \"\"\"\n",
    "    def gaussian_probability(xi, mean, stdev):\n",
    "        return (1 / (math.sqrt(2 * math.pi) * stdev)) * math.exp(-((xi - mean)**2 / (2 * stdev**2)))"
   ]
  },
  {
   "cell_type": "markdown",
   "metadata": {},
   "source": [
    "In order to better evaluate my classifier I builded a **ConfusionMatrix** wich can be build from results of the **predict** method and the actual classes of the test set.\n",
    "\n",
    "I also have created a function to display it for this notebook"
   ]
  },
  {
   "cell_type": "code",
   "execution_count": 5,
   "metadata": {},
   "outputs": [],
   "source": [
    "class ConfusionMatrix:\n",
    "    def __init__(self, matrix):\n",
    "        self.matrix = matrix\n",
    "        self.fp = matrix.sum(axis=0) - np.diag(matrix)\n",
    "        self.tp = np.diag(matrix)\n",
    "        self.fn = matrix.sum(axis=1) - np.diag(matrix)\n",
    "        self.tn = matrix.sum() - (self.fp + self.fn + self.tp)\n",
    "\n",
    "    def __str__(self):\n",
    "        return str(self.matrix)\n",
    "\n",
    "    \"\"\"\n",
    "    Build the matrix from actual vs predicted classes\n",
    "    \"\"\"\n",
    "    def build_from(actuals, predicted):\n",
    "        matrix = {}\n",
    "        classes = set(actuals)\n",
    "        size = len(classes)\n",
    "\n",
    "        for c in classes:\n",
    "            matrix[c] = {ci: 0 for ci in classes}\n",
    "\n",
    "        for actual, pred in zip(actuals, predicted):\n",
    "            matrix[actual][pred] += 1\n",
    "\n",
    "        result = np.empty(shape=(size, size), dtype=int)\n",
    "        for i, key in enumerate(matrix):\n",
    "            result[i] = [matrix[key][k] for k in matrix[key]]\n",
    "\n",
    "        return ConfusionMatrix(result)\n",
    "\n",
    "    def accuracy(self):\n",
    "        return np.trace(self.matrix) / float(np.sum(self.matrix))\n",
    "\n",
    "    \"\"\"\n",
    "    true positive rate / recall\n",
    "    \"\"\"\n",
    "    def tpr(self):\n",
    "        return self.tp / (self.tp + self.fn)\n",
    "\n",
    "    \"\"\"\n",
    "    false positive rate / fall-out\n",
    "    \"\"\"\n",
    "    def fpr(self):\n",
    "        return self.fp / (self.tn + self.fp)\n",
    "    \n",
    "def plot_confusion_matrix(ax, cm, target_names, title):\n",
    "    ax.imshow(cm.matrix, interpolation=\"nearest\", cmap=plt.get_cmap(\"Greens\"))\n",
    "\n",
    "    switch = cm.matrix.max() / 2\n",
    "    for i in range(cm.matrix.shape[0]):\n",
    "        for j in range(cm.matrix.shape[1]):\n",
    "            color = \"white\" if cm.matrix[i, j] > switch else \"black\"\n",
    "            ax.text(j, i, cm.matrix[i, j],\n",
    "                     horizontalalignment=\"center\",\n",
    "                     color=color)\n",
    "\n",
    "    ticks = np.arange(len(target_names))\n",
    "    accuracy = cm.accuracy() * 100\n",
    "    ax.set(xticks=ticks, xticklabels=target_names,\n",
    "           yticks=ticks, yticklabels=target_names,\n",
    "           ylabel=\"Actual\", xlabel=f\"Predicted\\n\\naccuracy={accuracy:0.2f}%\",\n",
    "           title=title)"
   ]
  },
  {
   "cell_type": "markdown",
   "metadata": {},
   "source": [
    "Now we can write an example on the iris dataset with one train set and one test set"
   ]
  },
  {
   "cell_type": "code",
   "execution_count": 6,
   "metadata": {
    "scrolled": true
   },
   "outputs": [
    {
     "data": {
      "image/png": "[encoded data removed]",
      "text/plain": [
       "<Figure size 432x288 with 1 Axes>"
      ]
     },
     "metadata": {
      "needs_background": "light"
     },
     "output_type": "display_data"
    }
   ],
   "source": [
    "ds = datasets.load_iris()\n",
    "target_names = ds.target_names.tolist()\n",
    "X = ds.data.tolist()\n",
    "y = ds.target.tolist()\n",
    "\n",
    "remove_rand_class(X, y, target_names)\n",
    "\n",
    "Xtrain, Xtest, ytrain, ytest = train_test_split(X, y)\n",
    "\n",
    "nb = NaiveBayes()\n",
    "result = nb.fit(Xtrain, ytrain).predict(Xtest)\n",
    "cm = ConfusionMatrix.build_from(ytest, result)\n",
    "\n",
    "plot_confusion_matrix(plt.subplot(), cm, target_names, \"Confusion matrix for the NaiveBase classifier on the iris dataset\")"
   ]
  },
  {
   "cell_type": "markdown",
   "metadata": {},
   "source": [
    "Now that we have a classifier wich perform well on our dataset we can implement the cross validation method and compare the implementation with the sklearn one.\n",
    "\n",
    "To do the cross validation we need to split our dataset in k random batches of the same size, this is done trough the **kfold** function. "
   ]
  },
  {
   "cell_type": "code",
   "execution_count": 7,
   "metadata": {},
   "outputs": [],
   "source": [
    "\"\"\"\n",
    "Split a dataset in k random batches of the same size\n",
    "\"\"\"\n",
    "def kfold(dataset, k):\n",
    "    batch_size = int(len(dataset[0]) / k)\n",
    "    result = []\n",
    "    features_clone = list(dataset[0])\n",
    "    classes_clone = list(dataset[1])\n",
    "\n",
    "    for _ in range(k):\n",
    "        batch_features = []\n",
    "        batch_classes = []\n",
    "        for _ in range(batch_size):\n",
    "            rrange = randrange(len(features_clone))\n",
    "            batch_features.append(features_clone.pop(rrange))\n",
    "            batch_classes.append(classes_clone.pop(rrange))\n",
    "        result.append([batch_features, batch_classes])\n",
    "    return result"
   ]
  },
  {
   "cell_type": "markdown",
   "metadata": {},
   "source": [
    "The cross validation algorithm will take each batch as a train set and the others as test set. For each step we will compute a confusion matrix to get the true and false positive rate to build a ROC plot later and the accuracy. And we will do the mean on these data."
   ]
  },
  {
   "cell_type": "code",
   "execution_count": 8,
   "metadata": {},
   "outputs": [],
   "source": [
    "\"\"\"Find the true positive rate and false positive rate for a classifier on k batches\"\"\"\n",
    "def cross_validation(batches, algofn):\n",
    "    tprs = []\n",
    "    accuracies = []\n",
    "    mean_fpr = np.linspace(0, 1, 100)\n",
    "\n",
    "    for i, batch in enumerate(batches):\n",
    "        train_set = list(map(lambda x: sum(list(x), []),\n",
    "                             zip(*(batches[:i] + batches[i + 1:]))))\n",
    "        result = algofn(train_set, batch[0])\n",
    "        matrix = ConfusionMatrix.build_from(batch[1], result)\n",
    "        interp_tpr = np.interp(mean_fpr, matrix.fpr(), matrix.tpr())\n",
    "        interp_tpr[0] = 0\n",
    "        tprs.append(interp_tpr)\n",
    "        accuracies.append(matrix.accuracy())\n",
    "\n",
    "    mean_tpr = np.mean(tprs, axis=0)\n",
    "    mean_tpr[-1] = 1\n",
    "    mean_accuracy = np.mean(accuracies)\n",
    "\n",
    "    return mean_accuracy, mean_tpr, mean_fpr"
   ]
  },
  {
   "cell_type": "markdown",
   "metadata": {},
   "source": [
    "We can plot these data and compute the AUC.\n",
    "\n",
    "The AUC is approximated using the trapezoidal rule."
   ]
  },
  {
   "cell_type": "code",
   "execution_count": 9,
   "metadata": {},
   "outputs": [],
   "source": [
    "\"\"\"Approximate area with the trapezoidal rule\"\"\"\n",
    "def auc(x, y):\n",
    "    dx = np.diff(x)\n",
    "    if np.any(dx < 0) and np.all(dx <= 0):\n",
    "        return -np.trapz(y, x)\n",
    "    return np.trapz(y, x)\n",
    "\n",
    "\"\"\"\n",
    "Draw an ROC plot for the true positive rate and the false positive rate\n",
    "and display the AUC value\n",
    "\"\"\"\n",
    "def plot_roc(ax, accuracy, tpr, fpr, title):\n",
    "    ax.plot([0, 1], [0, 1], linestyle=\"--\", lw=2, color=\"r\")\n",
    "\n",
    "    auc_value = auc(fpr, tpr)\n",
    "    ax.plot(fpr, tpr, color=\"b\",\n",
    "            label=f\"AUC = {auc_value}\",\n",
    "            lw=2)\n",
    "\n",
    "    acc = accuracy * 100\n",
    "    ax.set(xlim=[-0.05, 1.05],\n",
    "           ylim=[-0.05, 1.05],\n",
    "           xlabel=f\"False positive rate / Fall-out\\n\\nMean accuracy={acc:0.2f}%\",\n",
    "           ylabel=\"True positive rate / Recall\",\n",
    "           title=title)\n",
    "    ax.legend(loc=\"lower right\")"
   ]
  },
  {
   "cell_type": "markdown",
   "metadata": {},
   "source": [
    "Now we can compare our classifier to the sklearn one"
   ]
  },
  {
   "cell_type": "code",
   "execution_count": 14,
   "metadata": {
    "scrolled": true
   },
   "outputs": [
    {
     "data": {
      "image/png": "[encoded data removed]",
      "text/plain": [
       "<Figure size 720x1080 with 2 Axes>"
      ]
     },
     "metadata": {
      "needs_background": "light"
     },
     "output_type": "display_data"
    }
   ],
   "source": [
    "    ds = datasets.load_iris()\n",
    "    target_names = ds.target_names.tolist()\n",
    "    X = ds.data.tolist()\n",
    "    y = ds.target.tolist()\n",
    "\n",
    "    remove_rand_class(X, y, target_names)\n",
    "    \n",
    "    k = 10\n",
    "    batches = kfold([X, y], k)\n",
    "\n",
    "    nb = NaiveBayes()\n",
    "    acc, tpr, fpr = cross_validation(batches, lambda train, test: nb.fit(train[0], train[1]).predict(test))\n",
    "\n",
    "\n",
    "    # Sklearn Gaussian Naive Bayes classifier\n",
    "    gnb = GaussianNB()\n",
    "    acc2, tpr2, fpr2 = cross_validation(batches, lambda train, test: gnb.fit(train[0], train[1]).predict(test).tolist())\n",
    "\n",
    "    fig, (ax1, ax2) = plt.subplots(2, 1)\n",
    "    plt.subplots_adjust(hspace=0.3)\n",
    "    fig.set_size_inches(10, 15)\n",
    "    plot_roc(ax1, acc, tpr, fpr, f\"Naive Bayes classifier on iris dataset ROC ({k}-fold cross validation)\")\n",
    "    plot_roc(ax2, acc2, tpr2, fpr2, f\"Scikit-learn Naive Bayes classifier on iris dataset ROC ({k}-fold cross validation)\")"
   ]
  }
 ],
 "metadata": {
  "kernelspec": {
   "display_name": "Python 3",
   "language": "python",
   "name": "python3"
  },
  "language_info": {
   "codemirror_mode": {
    "name": "ipython",
    "version": 3
   },
   "file_extension": ".py",
   "mimetype": "text/x-python",
   "name": "python",
   "nbconvert_exporter": "python",
   "pygments_lexer": "ipython3",
   "version": "3.9.1"
  }
 },
 "nbformat": 4,
 "nbformat_minor": 4
}
