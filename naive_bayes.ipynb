{
 "cells": [
  {
   "cell_type": "markdown",
   "metadata": {},
   "source": [
    "# Naive bayes classifier\n",
    "\n",
    "Used libraries are from the python standard library, sklearn, numpy and matplotlib"
   ]
  },
  {
   "cell_type": "code",
   "execution_count": 1,
   "metadata": {},
   "outputs": [],
   "source": [
    "import math\n",
    "from random import randrange\n",
    "import pickle\n",
    "\n",
    "import numpy as np\n",
    "import matplotlib.pyplot as plt\n",
    "from sklearn import datasets\n",
    "from sklearn.model_selection import train_test_split\n",
    "from sklearn.model_selection import StratifiedKFold\n",
    "\n",
    "\n",
    "# For comparison purpose\n",
    "from sklearn.naive_bayes import GaussianNB"
   ]
  },
  {
   "cell_type": "markdown",
   "metadata": {},
   "source": [
    "First, the **remove_rand_class** function will randomly choose a class to delete from a dataset\n",
    "\n"
   ]
  },
  {
   "cell_type": "code",
   "execution_count": 2,
   "metadata": {},
   "outputs": [],
   "source": [
    "def remove_rand_class(features_set, classes, target_names):\n",
    "    class_to_rm = randrange(len(target_names))\n",
    "    to_remove = sorted([i for i, x in enumerate(classes) if x == class_to_rm], reverse=True)\n",
    "    for i in to_remove:\n",
    "        features_set.pop(i)\n",
    "        classes.pop(i)\n",
    "    target_names.pop(class_to_rm)"
   ]
  },
  {
   "cell_type": "markdown",
   "metadata": {},
   "source": [
    "We can now build our Naive Bayes Classifier. \n",
    "For this exercise I choosed the Gaussian implementation of the algorithm. \n",
    "To fit our classifier to our data, the method **fit** will arrange the dataset and compute some properties.\n",
    "\n",
    "As our prediction algorithm requires the mean and the standard deviation for each feature for each classes we will do it in this step to avoid heavy computation while doing the prediction, this is done trough the **FeaturesStats** class. And to ensure an O(1) access during the prediction to these data I used a dictionary.\n",
    "\n",
    "\n",
    "I added to this class a **score** method to get the mean accuracy of our fitted classifier instance. And the **save_model** and **fit_from_file** methods allows us to save the model and to use it in another execution without recomputing everything."
   ]
  },
  {
   "cell_type": "code",
   "execution_count": 3,
   "metadata": {},
   "outputs": [],
   "source": [
    "class FeatureStats:\n",
    "    def __init__(self, data):\n",
    "        self.length = len(data)\n",
    "        self.mean = np.mean(data)\n",
    "        self.stdev = np.std(data)\n",
    "\n",
    "\n",
    "class NaiveBayes:\n",
    "    def __init__(self, algorithm=\"gaussian\"):\n",
    "        self.algorithm = algorithm\n",
    "        self.model = None\n",
    "\n",
    "    \"\"\"\n",
    "    Create a NaiveBayes model\n",
    "    \"\"\"\n",
    "    def fit(self, values, classes):\n",
    "        ds = {}\n",
    "        ds_features = {}\n",
    "\n",
    "        for i in range(len(values) - 1):\n",
    "            if not classes[i] in ds:\n",
    "                ds[classes[i]] = [values[i]]\n",
    "            else:\n",
    "                ds[classes[i]].append(values[i])\n",
    "\n",
    "        for class_id, features in ds.items():\n",
    "            ds_features[class_id] = [FeatureStats(feature) for feature in zip(*features)]\n",
    "\n",
    "        if self.algorithm == \"gaussian\":\n",
    "            self.model = GNBModel(ds, ds_features, len(values))\n",
    "            return self\n",
    "        raise NotImplementedError()\n",
    "\n",
    "    \"\"\"\n",
    "    Predict classes based on features\n",
    "    \"\"\"\n",
    "    def predict(self, features_set):\n",
    "        if not self.model:\n",
    "            raise Exception(\"Classifier instance not fitted\")\n",
    "        return self.model.predict(features_set)\n",
    "\n",
    "    \"\"\"\n",
    "    Predict classes based on features\n",
    "    \"\"\"\n",
    "    def predict_proba(self, features_set):\n",
    "        if not self.model:\n",
    "            raise Exception(\"Classifier instance not fitted\")\n",
    "        return self.model.predict_proba(features_set)\n",
    "\n",
    "\n",
    "    \"\"\"\n",
    "    Mean accuracy for this model\n",
    "    \"\"\"\n",
    "    def score(self, features_set, classes):\n",
    "        if not self.model:\n",
    "            raise Exception(\"Classifier instance not fitted\")\n",
    "        tp = 0\n",
    "        predicted = self.predict(features_set)\n",
    "\n",
    "        for i, _ in enumerate(classes):\n",
    "            if classes[i] == predicted[i]:\n",
    "                tp += 1\n",
    "        return tp / float(len(features_set))\n",
    "\n",
    "    \"\"\"\n",
    "    Save the model to a binary pickle file\n",
    "    \"\"\"\n",
    "    def save_model(self, filename):\n",
    "        pickle.dump(self.model, open(filename, \"wb\"))\n",
    "\n",
    "    \"\"\"\n",
    "    Load the model from a binary pickle file\n",
    "    \"\"\"\n",
    "    def fit_from_file(self, filename):\n",
    "        self.model = pickle.load(open(filename, \"rb\"))\n",
    "        return self"
   ]
  },
  {
   "cell_type": "markdown",
   "metadata": {},
   "source": [
    "At the end of our **fit** method, the classifier will instanciate our model with the class GNBModel.\n",
    "\n",
    "In the model we can find the **predict** method wich is the MAP (Maximum a posteriori) estimation:\n",
    "$$\n",
    "ŷ = \\arg \\max_y P(y)\\begin{equation*}\n",
    "\\prod_{i=1}^{n} P(x_i|y)\n",
    "\\end{equation*}\n",
    "$$\n",
    "\n",
    "I choosed the gaussian implementation, because the sklearn implementation perform very well on this dataset, where $P(x_i|y)$ is estimated with:\n",
    "$$\n",
    "P(x_i|y) = \\frac{1}{\\sqrt{2\\pi\\sigma_y^2}} exp\\left(-\\frac{(x_i - \\mu_y)^2}{2\\sigma_y^2}\\right)\n",
    "$$"
   ]
  },
  {
   "cell_type": "code",
   "execution_count": 4,
   "metadata": {},
   "outputs": [],
   "source": [
    "class GNBModel:\n",
    "    def __init__(self, ds, ds_features, rows):\n",
    "        self.ds = ds\n",
    "        self.ds_features = ds_features\n",
    "        self.rows = rows\n",
    "\n",
    "\n",
    "    \"\"\"\n",
    "    Maximum a posteriori evaluation\n",
    "    \"\"\"\n",
    "    def __MAP(self, features):\n",
    "        prob = {}\n",
    "\n",
    "        for class_id, class_stats in self.ds_features.items():\n",
    "            prob[class_id] = class_stats[0].length / float(self.rows)\n",
    "            for i, feature_stats in enumerate(class_stats):\n",
    "                prob[class_id] *= GNBModel.gaussian_probability(features[i],\n",
    "                                                                feature_stats.mean,\n",
    "                                                                feature_stats.stdev)\n",
    "        return prob\n",
    "\n",
    "\n",
    "    \"\"\"\n",
    "    Predict classes based on features\n",
    "    \"\"\"\n",
    "    def predict(self, features_set):\n",
    "        result = []\n",
    "\n",
    "        for features in features_set:\n",
    "            prob = self.__MAP(features)\n",
    "            result.append(max(prob, key=prob.get))\n",
    "        return result\n",
    "\n",
    "\n",
    "    \"\"\"\n",
    "    Predict classes proba based on features\n",
    "    \"\"\"\n",
    "    def predict_proba(self, features_set):\n",
    "        result = []\n",
    "\n",
    "        for features in features_set:\n",
    "            prob = self.__MAP(features)\n",
    "            prob_list = list(prob.values())\n",
    "            result.append(prob_list)\n",
    "\n",
    "        return result\n",
    "\n",
    "\n",
    "    \"\"\"\n",
    "    Estimate P(xi|y) using gaussian distribution\n",
    "    \"\"\"\n",
    "    def gaussian_probability(xi, mean, stdev):\n",
    "        return (1 / (math.sqrt(2 * math.pi) * stdev)) * math.exp(-((xi - mean)**2 / (2 * stdev**2)))"
   ]
  },
  {
   "cell_type": "markdown",
   "metadata": {},
   "source": [
    "In order to better evaluate my classifier I builded a **ConfusionMatrix** that can be built from results of the **predict** method and the actual classes of the test set.\n",
    "\n",
    "I also have created a function to display it for this notebook"
   ]
  },
  {
   "cell_type": "code",
   "execution_count": 5,
   "metadata": {},
   "outputs": [],
   "source": [
    "class ConfusionMatrix:\n",
    "    def __init__(self, matrix):\n",
    "        self.matrix = matrix\n",
    "        self.fp = matrix.sum(axis=0) - np.diag(matrix)\n",
    "        self.tp = np.diag(matrix)\n",
    "        self.fn = matrix.sum(axis=1) - np.diag(matrix)\n",
    "        self.tn = matrix.sum() - (self.fp + self.fn + self.tp)\n",
    "\n",
    "    def __str__(self):\n",
    "        return str(self.matrix)\n",
    "\n",
    "    \"\"\"\n",
    "    Build the matrix from actual vs predicted classes\n",
    "    \"\"\"\n",
    "    def build_from(actuals, predicted):\n",
    "        matrix = {}\n",
    "        classes = set(actuals)\n",
    "        size = len(classes)\n",
    "\n",
    "        for c in classes:\n",
    "            matrix[c] = {ci: 0 for ci in classes}\n",
    "\n",
    "        for actual, pred in zip(actuals, predicted):\n",
    "            matrix[actual][pred] += 1\n",
    "\n",
    "        result = np.empty(shape=(size, size), dtype=int)\n",
    "        for i, key in enumerate(matrix):\n",
    "            result[i] = [matrix[key][k] for k in matrix[key]]\n",
    "\n",
    "        return ConfusionMatrix(result)\n",
    "\n",
    "    def accuracy(self):\n",
    "        return np.trace(self.matrix) / float(np.sum(self.matrix))\n",
    "\n",
    "    \"\"\"\n",
    "    true positive rate / recall\n",
    "    \"\"\"\n",
    "    def tpr(self):\n",
    "        return self.tp / (self.tp + self.fn)\n",
    "\n",
    "    \"\"\"\n",
    "    false positive rate / fall-out\n",
    "    \"\"\"\n",
    "    def fpr(self):\n",
    "        return self.fp / (self.tn + self.fp)\n",
    "    \n",
    "def plot_confusion_matrix(ax, cm, target_names, title):\n",
    "    ax.imshow(cm.matrix, interpolation=\"nearest\", cmap=plt.get_cmap(\"Greens\"))\n",
    "\n",
    "    switch = cm.matrix.max() / 2\n",
    "    for i in range(cm.matrix.shape[0]):\n",
    "        for j in range(cm.matrix.shape[1]):\n",
    "            color = \"white\" if cm.matrix[i, j] > switch else \"black\"\n",
    "            ax.text(j, i, cm.matrix[i, j],\n",
    "                     horizontalalignment=\"center\",\n",
    "                     color=color)\n",
    "\n",
    "    ticks = np.arange(len(target_names))\n",
    "    accuracy = cm.accuracy() * 100\n",
    "    ax.set(xticks=ticks, xticklabels=target_names,\n",
    "           yticks=ticks, yticklabels=target_names,\n",
    "           ylabel=\"Actual\", xlabel=f\"Predicted\\n\\naccuracy={accuracy:0.2f}%\",\n",
    "           title=title)"
   ]
  },
  {
   "cell_type": "markdown",
   "metadata": {},
   "source": [
    "Now we can write an example on the iris dataset with one train set and one test set"
   ]
  },
  {
   "cell_type": "code",
   "execution_count": 6,
   "metadata": {
    "scrolled": false
   },
   "outputs": [
    {
     "data": {
      "image/png": "[encoded data removed]",
      "text/plain": [
       "<Figure size 432x288 with 1 Axes>"
      ]
     },
     "metadata": {
      "needs_background": "light"
     },
     "output_type": "display_data"
    }
   ],
   "source": [
    "ds = datasets.load_iris()\n",
    "target_names = ds.target_names.tolist()\n",
    "X = ds.data.tolist()\n",
    "y = ds.target.tolist()\n",
    "\n",
    "remove_rand_class(X, y, target_names)\n",
    "\n",
    "Xtrain, Xtest, ytrain, ytest = train_test_split(X, y)\n",
    "\n",
    "nb = NaiveBayes()\n",
    "result = nb.fit(Xtrain, ytrain).predict(Xtest)\n",
    "cm = ConfusionMatrix.build_from(ytest, result)\n",
    "\n",
    "plot_confusion_matrix(plt.subplot(), cm, target_names, \"Confusion matrix for the NaiveBase classifier on the iris dataset\")"
   ]
  },
  {
   "cell_type": "markdown",
   "metadata": {},
   "source": [
    "Now that we have a classifier that perform well on our dataset we can implement the cross validation method and compare the implementation with the sklearn one.\n",
    "\n",
    "\n",
    "To compare our results, we need a function to compute an ROC that return true positive rates and false positive rates for each tresholds.\n",
    "\n",
    "The tresholds are the sorted distinct scores obtained for the \"true\" value. "
   ]
  },
  {
   "cell_type": "code",
   "execution_count": 7,
   "metadata": {},
   "outputs": [],
   "source": [
    "\"\"\"\n",
    "Build an ROC from actual values and predicted scores\n",
    "\"\"\"\n",
    "def roc_curve(actuals, scores):\n",
    "    classes = set(actuals)\n",
    "    actualsbin = list(map(lambda x: x == max(classes), actuals))\n",
    "    tscores = np.array(scores)[:,1]\n",
    "    sortidx = np.argsort(tscores, kind=\"mergesort\")[::-1]\n",
    "    tscores = np.array(tscores)[sortidx]\n",
    "    actualsbin = np.array(actualsbin)[sortidx]\n",
    "    thresholds = list(dict.fromkeys(tscores))\n",
    "\n",
    "    tprs = []\n",
    "    fprs = []\n",
    "    for threshold in thresholds:\n",
    "        tp = 0.0\n",
    "        fp = 0.0\n",
    "        tn = 0.0\n",
    "        fn = 0.0\n",
    "        for actual, score in zip(actualsbin, tscores):\n",
    "            if score > threshold:\n",
    "                if actual:\n",
    "                    tp += 1.0\n",
    "                else:\n",
    "                    fp += 1.0\n",
    "            else:\n",
    "                if actual:\n",
    "                    fn += 1.0\n",
    "                else:\n",
    "                    tn += 1.0\n",
    "\n",
    "        tpr = tp / (tp + fn) if tp + fn != 0.0 else 0.0\n",
    "        fpr = fp / (fp + tn) if fp + tn != 0.0 else 0.0\n",
    "        fprs.append(fpr)\n",
    "        tprs.append(tpr)\n",
    "\n",
    "    fprs[-1] = 1.0\n",
    "    tprs[-1] = 1.0\n",
    "    fprs[0] = 0.0\n",
    "    tprs[0] = 0.0\n",
    "\n",
    "    return tprs, fprs, compute_auc(fprs, tprs)"
   ]
  },
  {
   "cell_type": "markdown",
   "metadata": {},
   "source": [
    "The cross validation algorithm will take each batch as a train set and the others as test set. For each step we will compute a confusion matrix to get the true and false positive rate to build a ROC plot later and the accuracy. And we will do the mean on these data."
   ]
  },
  {
   "cell_type": "code",
   "execution_count": 8,
   "metadata": {},
   "outputs": [],
   "source": [
    "\"\"\"Find the true positive rate , false positive rate and mean auc for a classifier on k batches\"\"\"\n",
    "def cross_validation(X, y, algofn, k=10):\n",
    "    tprs = []\n",
    "    aucs = []\n",
    "    mean_fpr = np.linspace(0, 1, 100)\n",
    "    kf = StratifiedKFold(n_splits=k)\n",
    "    X = np.array(X)\n",
    "    y = np.array(y)\n",
    "\n",
    "    for train_idx, test_idx in kf.split(X, y):\n",
    "        Xtrain, Xtest = list(X[train_idx]), list(X[test_idx])\n",
    "        ytrain, ytest = list(y[train_idx]), list(y[test_idx])\n",
    "        result = algofn([Xtrain, ytrain], Xtest)\n",
    "        tpr, fpr, auc_val = roc_curve(ytest, result)\n",
    "        aucs.append(auc_val)\n",
    "        interp_tpr = np.interp(mean_fpr, fpr, tpr)\n",
    "        interp_tpr[0] = 0\n",
    "        tprs.append(interp_tpr)\n",
    "\n",
    "    mean_tpr = np.mean(tprs, axis=0)\n",
    "    mean_tpr[-1] = 1\n",
    "\n",
    "    mean_auc = np.mean(aucs)\n",
    "\n",
    "    return mean_tpr, mean_fpr, mean_auc"
   ]
  },
  {
   "cell_type": "markdown",
   "metadata": {},
   "source": [
    "We can plot these data and compute the AUC.\n",
    "\n",
    "The AUC is approximated using the trapezoidal rule."
   ]
  },
  {
   "cell_type": "code",
   "execution_count": 9,
   "metadata": {},
   "outputs": [],
   "source": [
    "\"\"\"Approximate area with the trapezoidal rule\"\"\"\n",
    "def compute_auc(x, y):\n",
    "    dx = np.diff(x)\n",
    "    if np.any(dx < 0) and np.all(dx <= 0):\n",
    "        return -np.trapz(y, x)\n",
    "    return np.trapz(y, x)\n",
    "\n",
    "\"\"\"\n",
    "Draw an ROC plot for the true positive rate and the false positive rate\n",
    "and display the AUC value\n",
    "\"\"\"\n",
    "def plot_roc(ax, tpr, fpr, mean_auc, title):\n",
    "    ax.plot([0, 1], [0, 1], linestyle=\"--\", lw=2, color=\"r\")\n",
    "\n",
    "    auc_value = compute_auc(fpr, tpr)\n",
    "    ax.plot(fpr, tpr, color=\"b\",\n",
    "            label=f\"AUC = {auc_value}\\n\\nMean AUC = {mean_auc}\",\n",
    "            lw=2)\n",
    "\n",
    "    ax.set(xlim=[-0.05, 1.05],\n",
    "           ylim=[-0.05, 1.05],\n",
    "           xlabel=f\"False positive rate / Fall-out\",\n",
    "           ylabel=\"True positive rate / Recall\",\n",
    "           title=title)\n",
    "    ax.legend(loc=\"lower right\")"
   ]
  },
  {
   "cell_type": "markdown",
   "metadata": {},
   "source": [
    "Now we can compare our classifier to the sklearn one"
   ]
  },
  {
   "cell_type": "code",
   "execution_count": 10,
   "metadata": {
    "scrolled": true
   },
   "outputs": [
    {
     "data": {
      "image/png": "[encoded data removed]",
      "text/plain": [
       "<Figure size 432x288 with 1 Axes>"
      ]
     },
     "metadata": {
      "needs_background": "light"
     },
     "output_type": "display_data"
    }
   ],
   "source": [
    "    ds = datasets.load_iris()\n",
    "    target_names = ds.target_names.tolist()\n",
    "    X = ds.data.tolist()\n",
    "    y = ds.target.tolist()\n",
    "\n",
    "    remove_rand_class(X, y, target_names)\n",
    "\n",
    "    nb = NaiveBayes()\n",
    "    tpr, fpr, auc = cross_validation(X, y, lambda train, test: nb.fit(train[0], train[1]).predict_proba(test))\n",
    "\n",
    "\n",
    "    # Sklearn Gaussian Naive Bayes classifier\n",
    "    gnb = GaussianNB()\n",
    "    tpr2, fpr2, auc2 = cross_validation(X, y, lambda train, test: gnb.fit(train[0], train[1]).predict_proba(test).tolist())\n",
    "\n",
    "    ax1 = plt.subplot()\n",
    "    plot_roc(ax1, tpr, fpr, auc, \"Naive Bayes classifier on iris dataset ROC (10-fold cross validation)\")"
   ]
  },
  {
   "cell_type": "code",
   "execution_count": 11,
   "metadata": {},
   "outputs": [
    {
     "data": {
      "image/png": "[encoded data removed]",
      "text/plain": [
       "<Figure size 432x288 with 1 Axes>"
      ]
     },
     "metadata": {
      "needs_background": "light"
     },
     "output_type": "display_data"
    }
   ],
   "source": [
    "ax2 = plt.subplot()\n",
    "plot_roc(ax2, tpr2, fpr2, auc2, \"Scikit-learn Naive Bayes classifier on iris dataset ROC (10-fold cross validation)\")"
   ]
  },
  {
   "cell_type": "markdown",
   "metadata": {},
   "source": [
    "To conclude, this classifier achive great perfomances on this dataset (AUC > 0.9) but the sklearn one seems to perform better on some classes pairs."
   ]
  }
 ],
 "metadata": {
  "kernelspec": {
   "display_name": "Python 3",
   "language": "python",
   "name": "python3"
  },
  "language_info": {
   "codemirror_mode": {
    "name": "ipython",
    "version": 3
   },
   "file_extension": ".py",
   "mimetype": "text/x-python",
   "name": "python",
   "nbconvert_exporter": "python",
   "pygments_lexer": "ipython3",
   "version": "3.9.1"
  }
 },
 "nbformat": 4,
 "nbformat_minor": 4
}
